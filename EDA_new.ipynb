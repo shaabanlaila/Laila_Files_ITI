{
 "cells": [
  {
   "cell_type": "markdown",
   "metadata": {},
   "source": [
    "# EDA 2/22"
   ]
  },
  {
   "cell_type": "code",
   "execution_count": 15,
   "metadata": {},
   "outputs": [],
   "source": [
    "# imports\n",
    "import pandas as pd\n",
    "import seaborn as sns\n",
    "import ydata_profiling\n",
    "import matplotlib.pyplot as plt\n",
    "import numpy as np"
   ]
  },
  {
   "cell_type": "code",
   "execution_count": 24,
   "metadata": {},
   "outputs": [],
   "source": [
    "data = pd.read_csv(\"/Users/gimli/Downloads/Qgroundcontrol-process-enabled-function.csv\")"
   ]
  },
  {
   "cell_type": "code",
   "execution_count": 25,
   "metadata": {},
   "outputs": [
    {
     "name": "stdout",
     "output_type": "stream",
     "text": [
      "Dataframe Dimensions: (459745, 15)\n"
     ]
    },
    {
     "data": {
      "text/html": [
       "<div>\n",
       "<style scoped>\n",
       "    .dataframe tbody tr th:only-of-type {\n",
       "        vertical-align: middle;\n",
       "    }\n",
       "\n",
       "    .dataframe tbody tr th {\n",
       "        vertical-align: top;\n",
       "    }\n",
       "\n",
       "    .dataframe thead th {\n",
       "        text-align: right;\n",
       "    }\n",
       "</style>\n",
       "<table border=\"1\" class=\"dataframe\">\n",
       "  <thead>\n",
       "    <tr style=\"text-align: right;\">\n",
       "      <th></th>\n",
       "      <th>alloc_ip</th>\n",
       "      <th>pid</th>\n",
       "      <th>obj_ptr</th>\n",
       "      <th>obj_size</th>\n",
       "      <th>alloc_jiffies</th>\n",
       "      <th>free_jiffies</th>\n",
       "      <th>free_ip</th>\n",
       "      <th>type</th>\n",
       "      <th>command</th>\n",
       "      <th>slab</th>\n",
       "      <th>new_type</th>\n",
       "      <th>systemcalls</th>\n",
       "      <th>access_ip</th>\n",
       "      <th>writes</th>\n",
       "      <th>reads</th>\n",
       "    </tr>\n",
       "  </thead>\n",
       "  <tbody>\n",
       "    <tr>\n",
       "      <th>610</th>\n",
       "      <td>ffffffff824ac24a</td>\n",
       "      <td>0</td>\n",
       "      <td>ffff888156c99540</td>\n",
       "      <td>320</td>\n",
       "      <td>1161</td>\n",
       "      <td>4601</td>\n",
       "      <td>00000000deadbeef</td>\n",
       "      <td>KMEM_CACHE_BULK</td>\n",
       "      <td>softirq</td>\n",
       "      <td>skbuff_head_cache</td>\n",
       "      <td>KMEM_CACHE_BULK</td>\n",
       "      <td>kexec_purgatory_size</td>\n",
       "      <td>ffffffff81adb6c4</td>\n",
       "      <td>0</td>\n",
       "      <td>1</td>\n",
       "    </tr>\n",
       "    <tr>\n",
       "      <th>611</th>\n",
       "      <td>ffffffff824ac24a</td>\n",
       "      <td>0</td>\n",
       "      <td>ffff888156c99540</td>\n",
       "      <td>320</td>\n",
       "      <td>1161</td>\n",
       "      <td>4601</td>\n",
       "      <td>00000000deadbeef</td>\n",
       "      <td>KMEM_CACHE_BULK</td>\n",
       "      <td>softirq</td>\n",
       "      <td>skbuff_head_cache</td>\n",
       "      <td>KMEM_CACHE_BULK</td>\n",
       "      <td>kexec_purgatory_size</td>\n",
       "      <td>ffffffff824a293e</td>\n",
       "      <td>0</td>\n",
       "      <td>1</td>\n",
       "    </tr>\n",
       "    <tr>\n",
       "      <th>612</th>\n",
       "      <td>ffffffff824ac24a</td>\n",
       "      <td>0</td>\n",
       "      <td>ffff888156c99540</td>\n",
       "      <td>320</td>\n",
       "      <td>1161</td>\n",
       "      <td>4601</td>\n",
       "      <td>00000000deadbeef</td>\n",
       "      <td>KMEM_CACHE_BULK</td>\n",
       "      <td>softirq</td>\n",
       "      <td>skbuff_head_cache</td>\n",
       "      <td>KMEM_CACHE_BULK</td>\n",
       "      <td>kexec_purgatory_size</td>\n",
       "      <td>ffffffff824a294e</td>\n",
       "      <td>0</td>\n",
       "      <td>1</td>\n",
       "    </tr>\n",
       "    <tr>\n",
       "      <th>613</th>\n",
       "      <td>ffffffff824ac24a</td>\n",
       "      <td>0</td>\n",
       "      <td>ffff888156c99540</td>\n",
       "      <td>320</td>\n",
       "      <td>1161</td>\n",
       "      <td>4601</td>\n",
       "      <td>00000000deadbeef</td>\n",
       "      <td>KMEM_CACHE_BULK</td>\n",
       "      <td>softirq</td>\n",
       "      <td>skbuff_head_cache</td>\n",
       "      <td>KMEM_CACHE_BULK</td>\n",
       "      <td>kexec_purgatory_size</td>\n",
       "      <td>ffffffff824a296c</td>\n",
       "      <td>0</td>\n",
       "      <td>1</td>\n",
       "    </tr>\n",
       "    <tr>\n",
       "      <th>614</th>\n",
       "      <td>ffffffff824ac24a</td>\n",
       "      <td>0</td>\n",
       "      <td>ffff888156c99540</td>\n",
       "      <td>320</td>\n",
       "      <td>1161</td>\n",
       "      <td>4601</td>\n",
       "      <td>00000000deadbeef</td>\n",
       "      <td>KMEM_CACHE_BULK</td>\n",
       "      <td>softirq</td>\n",
       "      <td>skbuff_head_cache</td>\n",
       "      <td>KMEM_CACHE_BULK</td>\n",
       "      <td>kexec_purgatory_size</td>\n",
       "      <td>ffffffff824a2993</td>\n",
       "      <td>0</td>\n",
       "      <td>1</td>\n",
       "    </tr>\n",
       "  </tbody>\n",
       "</table>\n",
       "</div>"
      ],
      "text/plain": [
       "             alloc_ip  pid           obj_ptr  obj_size  alloc_jiffies  \\\n",
       "610  ffffffff824ac24a    0  ffff888156c99540       320           1161   \n",
       "611  ffffffff824ac24a    0  ffff888156c99540       320           1161   \n",
       "612  ffffffff824ac24a    0  ffff888156c99540       320           1161   \n",
       "613  ffffffff824ac24a    0  ffff888156c99540       320           1161   \n",
       "614  ffffffff824ac24a    0  ffff888156c99540       320           1161   \n",
       "\n",
       "     free_jiffies           free_ip             type  command  \\\n",
       "610          4601  00000000deadbeef  KMEM_CACHE_BULK  softirq   \n",
       "611          4601  00000000deadbeef  KMEM_CACHE_BULK  softirq   \n",
       "612          4601  00000000deadbeef  KMEM_CACHE_BULK  softirq   \n",
       "613          4601  00000000deadbeef  KMEM_CACHE_BULK  softirq   \n",
       "614          4601  00000000deadbeef  KMEM_CACHE_BULK  softirq   \n",
       "\n",
       "                  slab         new_type           systemcalls  \\\n",
       "610  skbuff_head_cache  KMEM_CACHE_BULK  kexec_purgatory_size   \n",
       "611  skbuff_head_cache  KMEM_CACHE_BULK  kexec_purgatory_size   \n",
       "612  skbuff_head_cache  KMEM_CACHE_BULK  kexec_purgatory_size   \n",
       "613  skbuff_head_cache  KMEM_CACHE_BULK  kexec_purgatory_size   \n",
       "614  skbuff_head_cache  KMEM_CACHE_BULK  kexec_purgatory_size   \n",
       "\n",
       "            access_ip  writes  reads  \n",
       "610  ffffffff81adb6c4       0      1  \n",
       "611  ffffffff824a293e       0      1  \n",
       "612  ffffffff824a294e       0      1  \n",
       "613  ffffffff824a296c       0      1  \n",
       "614  ffffffff824a2993       0      1  "
      ]
     },
     "execution_count": 25,
     "metadata": {},
     "output_type": "execute_result"
    }
   ],
   "source": [
    "df = data.drop(columns = ['Unnamed: 0'])\n",
    "df = df.drop(df[df['alloc_ip'] == '14              '].index)\n",
    "df = df.drop(df[df['alloc_ip'] == '19              '].index)\n",
    "print(\"Dataframe Dimensions:\", df.shape)\n",
    "df.head()"
   ]
  },
  {
   "cell_type": "code",
   "execution_count": 26,
   "metadata": {},
   "outputs": [
    {
     "name": "stdout",
     "output_type": "stream",
     "text": [
      "<class 'pandas.core.frame.DataFrame'>\n",
      "Index: 459745 entries, 610 to 483296\n",
      "Data columns (total 15 columns):\n",
      " #   Column         Non-Null Count   Dtype \n",
      "---  ------         --------------   ----- \n",
      " 0   alloc_ip       459745 non-null  object\n",
      " 1   pid            459745 non-null  int64 \n",
      " 2   obj_ptr        459745 non-null  object\n",
      " 3   obj_size       459745 non-null  int64 \n",
      " 4   alloc_jiffies  459745 non-null  int64 \n",
      " 5   free_jiffies   459745 non-null  int64 \n",
      " 6   free_ip        459745 non-null  object\n",
      " 7   type           459745 non-null  object\n",
      " 8   command        459745 non-null  object\n",
      " 9   slab           459745 non-null  object\n",
      " 10  new_type       384789 non-null  object\n",
      " 11  systemcalls    459742 non-null  object\n",
      " 12  access_ip      459745 non-null  object\n",
      " 13  writes         459745 non-null  int64 \n",
      " 14  reads          459745 non-null  int64 \n",
      "dtypes: int64(6), object(9)\n",
      "memory usage: 56.1+ MB\n"
     ]
    }
   ],
   "source": [
    "df.info()"
   ]
  },
  {
   "cell_type": "code",
   "execution_count": 27,
   "metadata": {},
   "outputs": [
    {
     "data": {
      "application/vnd.jupyter.widget-view+json": {
       "model_id": "b14e9a8998ab4f699b542e61cdbf5160",
       "version_major": 2,
       "version_minor": 0
      },
      "text/plain": [
       "Summarize dataset:   0%|          | 0/5 [00:00<?, ?it/s]"
      ]
     },
     "metadata": {},
     "output_type": "display_data"
    },
    {
     "name": "stderr",
     "output_type": "stream",
     "text": [
      "C:\\Users\\gimli\\AppData\\Local\\Packages\\PythonSoftwareFoundation.Python.3.12_qbz5n2kfra8p0\\LocalCache\\local-packages\\Python312\\site-packages\\ydata_profiling\\model\\correlations.py:66: UserWarning: There was an attempt to calculate the auto correlation, but this failed.\n",
      "To hide this warning, disable the calculation\n",
      "(using `df.profile_report(correlations={\"auto\": {\"calculate\": False}})`\n",
      "If this is problematic for your use case, please report this as an issue:\n",
      "https://github.com/ydataai/ydata-profiling/issues\n",
      "(include the error message: 'could not convert string to float: 'ffffffff824ac24a'')\n",
      "  warnings.warn(\n"
     ]
    },
    {
     "data": {
      "application/vnd.jupyter.widget-view+json": {
       "model_id": "e38f70868bb84202be2fcd8dc248ca53",
       "version_major": 2,
       "version_minor": 0
      },
      "text/plain": [
       "Generate report structure:   0%|          | 0/1 [00:00<?, ?it/s]"
      ]
     },
     "metadata": {},
     "output_type": "display_data"
    },
    {
     "data": {
      "application/vnd.jupyter.widget-view+json": {
       "model_id": "9e1c9829276e4265ad5bcf5c63cb695e",
       "version_major": 2,
       "version_minor": 0
      },
      "text/plain": [
       "Render HTML:   0%|          | 0/1 [00:00<?, ?it/s]"
      ]
     },
     "metadata": {},
     "output_type": "display_data"
    },
    {
     "data": {
      "application/vnd.jupyter.widget-view+json": {
       "model_id": "cd6c6e29967947b7b76ce7d985266797",
       "version_major": 2,
       "version_minor": 0
      },
      "text/plain": [
       "Export report to file:   0%|          | 0/1 [00:00<?, ?it/s]"
      ]
     },
     "metadata": {},
     "output_type": "display_data"
    }
   ],
   "source": [
    "# html profiling\n",
    "profile = ydata_profiling.ProfileReport(df)\n",
    "profile.to_file(output_file='output.html')"
   ]
  },
  {
   "cell_type": "code",
   "execution_count": 29,
   "metadata": {},
   "outputs": [],
   "source": [
    "# checking counts & plotting\n",
    "\n",
    "columns = ['type', 'new_type', 'command', 'slab']\n",
    "\n",
    "for col in columns:\n",
    "    plt.figure(figsize=(10, 6))\n",
    "    df[col].value_counts().plot(kind='bar', color='skyblue')\n",
    "    \n",
    "    plt.xlabel(col.capitalize())  # Capitalize column name for label\n",
    "    plt.ylabel('Count')\n",
    "    plt.title(f'Distribution of {col.capitalize()}')\n",
    "    plt.xticks(rotation=45)\n",
    "    plt.grid(axis='y', linestyle='--', alpha=0.7)\n",
    "    \n",
    "    plt.savefig(f'{col}_distribution.png', dpi=300, bbox_inches='tight')"
   ]
  },
  {
   "cell_type": "code",
   "execution_count": 30,
   "metadata": {},
   "outputs": [
    {
     "name": "stderr",
     "output_type": "stream",
     "text": [
      "C:\\Users\\gimli\\AppData\\Local\\Temp\\ipykernel_10656\\3646332000.py:10: FutureWarning: \n",
      "\n",
      "Passing `palette` without assigning `hue` is deprecated and will be removed in v0.14.0. Assign the `y` variable to `hue` and set `legend=False` for the same effect.\n",
      "\n",
      "  sns.barplot(x=counts.values, y=counts.index, palette='inferno', orient='h')\n",
      "C:\\Users\\gimli\\AppData\\Local\\Temp\\ipykernel_10656\\3646332000.py:23: UserWarning: FigureCanvasAgg is non-interactive, and thus cannot be shown\n",
      "  plt.show()\n",
      "C:\\Users\\gimli\\AppData\\Local\\Temp\\ipykernel_10656\\3646332000.py:10: FutureWarning: \n",
      "\n",
      "Passing `palette` without assigning `hue` is deprecated and will be removed in v0.14.0. Assign the `y` variable to `hue` and set `legend=False` for the same effect.\n",
      "\n",
      "  sns.barplot(x=counts.values, y=counts.index, palette='inferno', orient='h')\n",
      "C:\\Users\\gimli\\AppData\\Local\\Temp\\ipykernel_10656\\3646332000.py:23: UserWarning: FigureCanvasAgg is non-interactive, and thus cannot be shown\n",
      "  plt.show()\n",
      "C:\\Users\\gimli\\AppData\\Local\\Temp\\ipykernel_10656\\3646332000.py:10: FutureWarning: \n",
      "\n",
      "Passing `palette` without assigning `hue` is deprecated and will be removed in v0.14.0. Assign the `y` variable to `hue` and set `legend=False` for the same effect.\n",
      "\n",
      "  sns.barplot(x=counts.values, y=counts.index, palette='inferno', orient='h')\n",
      "C:\\Users\\gimli\\AppData\\Local\\Temp\\ipykernel_10656\\3646332000.py:23: UserWarning: FigureCanvasAgg is non-interactive, and thus cannot be shown\n",
      "  plt.show()\n",
      "C:\\Users\\gimli\\AppData\\Local\\Temp\\ipykernel_10656\\3646332000.py:10: FutureWarning: \n",
      "\n",
      "Passing `palette` without assigning `hue` is deprecated and will be removed in v0.14.0. Assign the `y` variable to `hue` and set `legend=False` for the same effect.\n",
      "\n",
      "  sns.barplot(x=counts.values, y=counts.index, palette='inferno', orient='h')\n",
      "C:\\Users\\gimli\\AppData\\Local\\Temp\\ipykernel_10656\\3646332000.py:23: UserWarning: FigureCanvasAgg is non-interactive, and thus cannot be shown\n",
      "  plt.show()\n"
     ]
    }
   ],
   "source": [
    "\n",
    "columns = ['type', 'new_type', 'command', 'slab']\n",
    "\n",
    "for col in columns:\n",
    "    plt.figure(figsize=(12, 6))\n",
    "    \n",
    "    # Get value counts\n",
    "    counts = df[col].value_counts()\n",
    "    \n",
    "    # Create a horizontal bar plot with a \"flame-like\" color palette\n",
    "    sns.barplot(x=counts.values, y=counts.index, palette='inferno', orient='h')\n",
    "\n",
    "    # Labels and title\n",
    "    plt.xlabel('Count')\n",
    "    plt.ylabel(col.capitalize())\n",
    "    plt.title(f'Flame-Like Distribution of {col.capitalize()}')\n",
    "    \n",
    "    # Remove grid to make it cleaner\n",
    "    plt.grid(False)\n",
    "\n",
    "    # Save the figure\n",
    "    plt.savefig(f'{col}_flame_graph.png', dpi=300, bbox_inches='tight')\n",
    "    \n",
    "    plt.show()\n"
   ]
  }
 ],
 "metadata": {
  "kernelspec": {
   "display_name": "Python 3",
   "language": "python",
   "name": "python3"
  },
  "language_info": {
   "codemirror_mode": {
    "name": "ipython",
    "version": 3
   },
   "file_extension": ".py",
   "mimetype": "text/x-python",
   "name": "python",
   "nbconvert_exporter": "python",
   "pygments_lexer": "ipython3",
   "version": "3.12.9"
  }
 },
 "nbformat": 4,
 "nbformat_minor": 2
}
